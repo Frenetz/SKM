{
 "cells": [
  {
   "cell_type": "markdown",
   "id": "eaa7effa",
   "metadata": {},
   "source": [
    "# Ходырев Федор 3821Б1ПР1\n",
    "\n",
    "\n",
    "# 31. Аппроксимация данных. Логистическая функция.\n",
    "\n",
    "[Weiner B. Discovering Psychology. 1977]\n",
    "\n",
    "В таблице представлены средние значения количества слов **y**, которыми владеет ребенок в заданном возрасте **t**.\n",
    "\n",
    "      t         y\n",
    "     -------------- \n",
    "     1.0        3\n",
    "     1.5       22\n",
    "     2.0      272\n",
    "     2.5      446\n",
    "     3.0      896\n",
    "     3.5     1222\n",
    "     4.0     1540\n",
    "     4.5     1870\n",
    "     5.0     2072\n",
    "     6.0     2562\n",
    "\n",
    "Построить линейную $y = \\beta_0 + \\beta_1x$  и две логистические модели:\n",
    "\n",
    "$$\n",
    "    y = \\frac{\\beta_0}{1 + \\beta_1e^{-\\beta_2t}},        y = \\frac{\\beta_0}{1+\\beta_1e^{-\\beta_2(t-t_0)}},  \n",
    "$$\n",
    "\n",
    "аппроксимирующие данные.\n",
    "Найти общую ошибку в каждом из этих случаев и сравнить результаты"
   ]
  },
  {
   "cell_type": "markdown",
   "id": "43ae8968",
   "metadata": {},
   "source": [
    "## Подключение необходимых библиотек"
   ]
  },
  {
   "cell_type": "code",
   "execution_count": 1,
   "id": "b92dc3fb",
   "metadata": {},
   "outputs": [],
   "source": [
    "import numpy as np # Библиотека для работы с массивами, матрицами\n",
    "import matplotlib.pyplot as plt # Библиотека для работы с графикой\n",
    "from scipy import linalg # Библиотека, позволяющая использовать операции из линейной алгебры\n",
    "from scipy import optimize # Библиотека, содержащая в себе функцию curve_fit, которая в свою очередь позволяет аппроксимировать функцию методом наименьших квадратов "
   ]
  },
  {
   "cell_type": "markdown",
   "id": "bcc0e715",
   "metadata": {},
   "source": [
    "## Графическое изображение исходных данных\n",
    "Для начала зададим начальные значения и изобразим их на графике "
   ]
  },
  {
   "cell_type": "code",
   "execution_count": 2,
   "id": "f0dad43a",
   "metadata": {
    "scrolled": true
   },
   "outputs": [
    {
     "data": {
      "image/png": "[encoded data removed]",
      "text/plain": [
       "<Figure size 432x288 with 1 Axes>"
      ]
     },
     "metadata": {
      "needs_background": "light"
     },
     "output_type": "display_data"
    }
   ],
   "source": [
    "x = np.array([1.0,1.5,2.0,2.5,3.0,3.5,4.0,4.5,5.0,6.0]) # Массив, содежащий значения возраста\n",
    "y = np.array([3,22,272,446,896,1222,1540,1870,2072,2562]) # Массив,содрежащий кол-во слов,соответствующих определенному возрасту\n",
    "srlen = len(x) # Переменная srlen хранит в себе длину массива x, в будущем она нам пригодится для нахождения общей ошибки\n",
    "plt.plot(x,y,'o',color = 'blue')\n",
    "plt.xlabel('Возраст')\n",
    "plt.ylabel('Количество слов')\n",
    "plt.grid()\n",
    "pass"
   ]
  },
  {
   "cell_type": "markdown",
   "id": "3aa6728a",
   "metadata": {},
   "source": [
    "## Простая линейная регрессия (линейный МНК)"
   ]
  },
  {
   "cell_type": "markdown",
   "id": "3ced96ab",
   "metadata": {},
   "source": [
    "Целевая(базовая) функция lin - для линейной $y = \\beta_0 + \\beta_1x$"
   ]
  },
  {
   "cell_type": "code",
   "execution_count": 3,
   "id": "b14e991e",
   "metadata": {},
   "outputs": [],
   "source": [
    "def lin(beta0, t, beta1):\n",
    "    return beta0 + beta1 * t"
   ]
  },
  {
   "cell_type": "markdown",
   "id": "9cf37321",
   "metadata": {},
   "source": [
    "Для нахождения параметров $\\beta_0$ и $\\beta_1$ воспользуемся функцией polyfit из библиотеки NumPy"
   ]
  },
  {
   "cell_type": "code",
   "execution_count": 4,
   "id": "3da0d448",
   "metadata": {},
   "outputs": [
    {
     "name": "stdout",
     "output_type": "stream",
     "text": [
      "Найденные коэффициенты равны: -763.8571428571419 561.9264069264067\n"
     ]
    }
   ],
   "source": [
    "linel = np.polyfit(x,y,1)\n",
    "beta0 = linel[1]\n",
    "beta1 = linel[0]\n",
    "print(\"Найденные коэффициенты равны:\",beta0,beta1)"
   ]
  },
  {
   "cell_type": "markdown",
   "id": "c59ef8ff",
   "metadata": {},
   "source": [
    "Построим график для функции с найденными параметрами $\\beta_0$ и $\\beta_1$:"
   ]
  },
  {
   "cell_type": "code",
   "execution_count": 5,
   "id": "b06fd3a0",
   "metadata": {
    "scrolled": true
   },
   "outputs": [
    {
     "data": {
      "image/png": "[encoded data removed]",
      "text/plain": [
       "<Figure size 432x288 with 1 Axes>"
      ]
     },
     "metadata": {
      "needs_background": "light"
     },
     "output_type": "display_data"
    }
   ],
   "source": [
    "mimax = np.linspace(np.min(x), np.max(x), 10)\n",
    "plt.plot(mimax ,lin(beta0,mimax,beta1), '-', color = 'red', label = 'lin')\n",
    "plt.title('Аппроксимация линейным МНК', size = 18)\n",
    "plt.xlabel('Возраст')\n",
    "plt.ylabel('Количество слов')\n",
    "plt.plot(x,y,'o', color = 'blue')\n",
    "plt.legend()\n",
    "plt.grid()\n",
    "pass"
   ]
  },
  {
   "cell_type": "markdown",
   "id": "0f14ce65",
   "metadata": {},
   "source": [
    "## Нелинейный метод наименьших квадратов (нелинейный МНК)\n",
    "Данную задачу минимизации решаем с помощью численных методов. Для этого воспользуемся функцией curve_fit из модуля numpy.optimize"
   ]
  },
  {
   "cell_type": "markdown",
   "id": "e3667b58",
   "metadata": {},
   "source": [
    "### Первая логистическая модель"
   ]
  },
  {
   "cell_type": "markdown",
   "id": "fe106f3c",
   "metadata": {},
   "source": [
    "Целевая(базовая) функция mod1 - для логистической модели $y = \\frac{\\beta_0}{1 + \\beta_1e^{-\\beta_2t}}$"
   ]
  },
  {
   "cell_type": "code",
   "execution_count": 6,
   "id": "23ed1dcb",
   "metadata": {},
   "outputs": [],
   "source": [
    "def mod1(t,beta0, beta1, beta2):\n",
    "    return beta0 / (1 + beta1 * np.exp(-beta2*t))"
   ]
  },
  {
   "cell_type": "markdown",
   "id": "3c151885",
   "metadata": {},
   "source": [
    "Предполагаемые начальные значения коэффициентов, которые я получил методом подбора:"
   ]
  },
  {
   "cell_type": "code",
   "execution_count": 7,
   "id": "85a8004f",
   "metadata": {},
   "outputs": [],
   "source": [
    "arr = [1,2,3]"
   ]
  },
  {
   "cell_type": "markdown",
   "id": "9b57f266",
   "metadata": {},
   "source": [
    "Так как функция curve_fit на выход подает два массива, из которых нам нужен только первый, то в качестве переменной, принимающей второй массив, поставим прочерк. В функции curve_fit первый параметр - целевая функция, второй и третий - набор начальных значений, четвертый - набор предполагаемых коэффициентов."
   ]
  },
  {
   "cell_type": "code",
   "execution_count": 8,
   "id": "fd0c1e93",
   "metadata": {
    "scrolled": true
   },
   "outputs": [
    {
     "name": "stdout",
     "output_type": "stream",
     "text": [
      "Найденные коэффициенты равны: 2612.693117576391 95.76932605651045 1.2364085878085078\n"
     ]
    }
   ],
   "source": [
    "params1, _= optimize.curve_fit(mod1,x,y,arr)\n",
    "bbeta0, bbeta1, bbeta2 = params1\n",
    "print(\"Найденные коэффициенты равны:\", bbeta0, bbeta1, bbeta2)"
   ]
  },
  {
   "cell_type": "markdown",
   "id": "afab0c2e",
   "metadata": {},
   "source": [
    "Построим график для функции с найденными коэффициантами:"
   ]
  },
  {
   "cell_type": "code",
   "execution_count": 9,
   "id": "55dc9031",
   "metadata": {},
   "outputs": [
    {
     "data": {
      "image/png": "[encoded data removed]",
      "text/plain": [
       "<Figure size 432x288 with 1 Axes>"
      ]
     },
     "metadata": {
      "needs_background": "light"
     },
     "output_type": "display_data"
    }
   ],
   "source": [
    "mimax = np.linspace(np.min(x), np.max(x), 10)\n",
    "plt.plot(x,y,'o', color = 'blue')\n",
    "plt.plot(mimax, mod1(mimax,bbeta0, bbeta1, bbeta2),'-', color = 'red', label='mod1')\n",
    "plt.title('Аппроксимация нелинейным МНК (модель №1)', size = 18)\n",
    "plt.xlabel('Возраст')\n",
    "plt.ylabel('Количество слов')\n",
    "plt.legend()\n",
    "plt.grid()\n",
    "pass"
   ]
  },
  {
   "cell_type": "markdown",
   "id": "f99703df",
   "metadata": {},
   "source": [
    "### Вторая логистическая модель\n",
    "Для данной модели также используем функцию curve_fit."
   ]
  },
  {
   "cell_type": "markdown",
   "id": "3d86dbf2",
   "metadata": {},
   "source": [
    "Целевая(базовая) функция mod2 - для логистической модели $y = \\frac{\\beta_0}{1+\\beta_1e^{-\\beta_2(t-t_0)}}$"
   ]
  },
  {
   "cell_type": "code",
   "execution_count": 10,
   "id": "659b2110",
   "metadata": {},
   "outputs": [],
   "source": [
    "def mod2(t,t0,beta0, beta1, beta2):\n",
    "    return beta0 / (1 + beta1 * np.exp(-beta2*(t - t0)))"
   ]
  },
  {
   "cell_type": "markdown",
   "id": "608fd772",
   "metadata": {},
   "source": [
    "Предполагаемые начальные значения коэффициентов, которые я получил методом подбора:"
   ]
  },
  {
   "cell_type": "code",
   "execution_count": 11,
   "id": "bc21384b",
   "metadata": {},
   "outputs": [],
   "source": [
    "arr2 = [1, 2, 10000, 0.00001] "
   ]
  },
  {
   "cell_type": "markdown",
   "id": "f65a7a9c",
   "metadata": {},
   "source": [
    "Путем подбора параметра maxfev было выявлено, что, начиная со значения 197,функция curve_fit выдает нам правильные коэффициенты. В функции curve_fit первый параметр - целевая функция, второй и третий - набор начальных значений, четвертый - набор предполагаемых коэффициентов,пятый - лимит на кол-во вычислений."
   ]
  },
  {
   "cell_type": "code",
   "execution_count": 12,
   "id": "add359c7",
   "metadata": {},
   "outputs": [
    {
     "name": "stdout",
     "output_type": "stream",
     "text": [
      "Найденные коэффициенты равны: 0.6548555499656031 2612.688226442009 42.618688005061706 1.2364179673483682\n"
     ]
    }
   ],
   "source": [
    "params2, _ = optimize.curve_fit(mod2, x, y, arr2, maxfev = 197) \n",
    "t0, bbbeta0, bbbeta1, bbbeta2 = params2\n",
    "print(\"Найденные коэффициенты равны:\", t0, bbbeta0, bbbeta1, bbbeta2)"
   ]
  },
  {
   "cell_type": "markdown",
   "id": "bc4dfaa6",
   "metadata": {},
   "source": [
    "Построим график для функции с найденными коэффициентами:"
   ]
  },
  {
   "cell_type": "code",
   "execution_count": 13,
   "id": "0f4661af",
   "metadata": {},
   "outputs": [
    {
     "data": {
      "image/png": "[encoded data removed]",
      "text/plain": [
       "<Figure size 432x288 with 1 Axes>"
      ]
     },
     "metadata": {
      "needs_background": "light"
     },
     "output_type": "display_data"
    }
   ],
   "source": [
    "mimax = np.linspace(np.min(x), np.max(x), 10)\n",
    "plt.plot(x,y,'o', color = 'blue')\n",
    "plt.plot(mimax, mod2(mimax,t0,bbbeta0, bbbeta1, bbbeta2),'-', color = 'red', label='mod2')\n",
    "plt.title('Аппроксимация нелинейным МНК (модель №2)', size = 18)\n",
    "plt.xlabel('Возраст')\n",
    "plt.ylabel('Количество слов')\n",
    "plt.legend()\n",
    "plt.grid()\n",
    "pass"
   ]
  },
  {
   "cell_type": "markdown",
   "id": "5a3ff787",
   "metadata": {},
   "source": [
    "# Сравнение всех аппроксимирующих функций на одном графике\n",
    "Для удобства сравнения всех трех аппроксимирующих функций изобразим их на одном графике\n"
   ]
  },
  {
   "cell_type": "code",
   "execution_count": 14,
   "id": "9e2f6dbe",
   "metadata": {},
   "outputs": [
    {
     "data": {
      "image/png": "[encoded data removed]",
      "text/plain": [
       "<Figure size 432x288 with 1 Axes>"
      ]
     },
     "metadata": {
      "needs_background": "light"
     },
     "output_type": "display_data"
    }
   ],
   "source": [
    "mimax = np.linspace(np.min(x), np.max(x), 10)\n",
    "plt.plot(x,y,'o', color = 'blue')\n",
    "plt.plot(mimax, lin(beta0,mimax,beta1), '-', color = 'yellow', label = 'lin')\n",
    "plt.plot(mimax, mod1(mimax,bbeta0, bbeta1, bbeta2),'-', color = 'green', label='mod1')\n",
    "plt.plot(mimax, mod2(mimax,t0,bbbeta0, bbbeta1, bbbeta2),'-', color = 'red', label='mod2')\n",
    "plt.title('Аппроксимация линейным и нелинейным МНК', size = 18)\n",
    "plt.xlabel('Возраст')\n",
    "plt.ylabel('Количество слов')\n",
    "plt.legend()\n",
    "plt.grid()\n",
    "pass"
   ]
  },
  {
   "cell_type": "markdown",
   "id": "937d5383",
   "metadata": {},
   "source": [
    "Уже из графика можно сделать вывод, что логистические модели аппроксимируют функцию лучше, чем линейная модель"
   ]
  },
  {
   "cell_type": "markdown",
   "id": "1656d73d",
   "metadata": {},
   "source": [
    "## Нахождение общей ошибки для каждого случая\n",
    "Чтобы окончательно убедиться в том, что логистические модели лучше линейных аппроксимируют функции, найдем общую ошибку в каждом случае.\n",
    "Под общей ошибкой подразумевается средний квадрат ошибки. Вместо возведения в квадрат можно было использовать модуль."
   ]
  },
  {
   "cell_type": "markdown",
   "id": "3c9085b9",
   "metadata": {},
   "source": [
    "### 1)Общая ошибка для линейной модели $y = \\beta_0 + \\beta_1x$"
   ]
  },
  {
   "cell_type": "code",
   "execution_count": 15,
   "id": "898ba0ce",
   "metadata": {},
   "outputs": [
    {
     "name": "stdout",
     "output_type": "stream",
     "text": [
      "Общая ошибка = 10903.27748917749\n"
     ]
    }
   ],
   "source": [
    "osh1 = np.array(y - lin(beta0,x,beta1))**2\n",
    "print('Общая ошибка =',np.sum(osh1)/srlen)"
   ]
  },
  {
   "cell_type": "markdown",
   "id": "e3e16ae8",
   "metadata": {},
   "source": [
    "### 2)Общая ошибка для первой логистической модели $y = \\frac{\\beta_0}{1 + \\beta_1e^{-\\beta_2t}}$"
   ]
  },
  {
   "cell_type": "code",
   "execution_count": 16,
   "id": "14b7786c",
   "metadata": {},
   "outputs": [
    {
     "name": "stdout",
     "output_type": "stream",
     "text": [
      "Общая ошибка = 6971.830188795667\n"
     ]
    }
   ],
   "source": [
    "osh2 = np.array(y - mod1(x,bbeta0, bbeta1, bbeta2))**2\n",
    "print('Общая ошибка =',np.sum(osh2)/srlen)"
   ]
  },
  {
   "cell_type": "markdown",
   "id": "1b2adc80",
   "metadata": {},
   "source": [
    "### 3)Общая ошибка для второй логистической модели $y = \\frac{\\beta_0}{1+\\beta_1e^{-\\beta_2(t-t_0)}}$"
   ]
  },
  {
   "cell_type": "code",
   "execution_count": 17,
   "id": "7969cdc5",
   "metadata": {},
   "outputs": [
    {
     "name": "stdout",
     "output_type": "stream",
     "text": [
      "Общая ошибка = 6971.830200078248\n"
     ]
    }
   ],
   "source": [
    "osh3 = np.array(y - mod2(x,t0,bbbeta0, bbbeta1, bbbeta2))**2\n",
    "print('Общая ошибка =',np.sum(osh3)/srlen)"
   ]
  },
  {
   "cell_type": "markdown",
   "id": "49296924",
   "metadata": {},
   "source": [
    "## Подведение итогов (вывод)\n",
    "После выполнения данной задачи, я сделал следующие выводы:"
   ]
  },
  {
   "cell_type": "markdown",
   "id": "d8c25638",
   "metadata": {},
   "source": [
    "1)Исходя из графиков функции, логистические модели аппроксимируют намного лучше линейной модели.\n",
    "\n",
    "2)Исходя из найденных ошибок, логистические модели показали практически одинаковый результат.\n",
    "\n",
    "3)Ошибка у линейной модели больше, чем у обоих логистических моделей. Это еще одно доказательство, что она аппроксимирует данные хуже логистических моделей\n"
   ]
  }
 ],
 "metadata": {
  "kernelspec": {
   "display_name": "Python 3 (ipykernel)",
   "language": "python",
   "name": "python3"
  },
  "language_info": {
   "codemirror_mode": {
    "name": "ipython",
    "version": 3
   },
   "file_extension": ".py",
   "mimetype": "text/x-python",
   "name": "python",
   "nbconvert_exporter": "python",
   "pygments_lexer": "ipython3",
   "version": "3.9.7"
  }
 },
 "nbformat": 4,
 "nbformat_minor": 5
}
